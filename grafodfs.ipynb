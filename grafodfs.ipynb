{
  "nbformat": 4,
  "nbformat_minor": 0,
  "metadata": {
    "colab": {
      "name": "grafodfs.ipynb",
      "version": "0.3.2",
      "provenance": [],
      "collapsed_sections": [],
      "include_colab_link": true
    },
    "kernelspec": {
      "name": "python3",
      "display_name": "Python 3"
    }
  },
  "cells": [
    {
      "cell_type": "markdown",
      "metadata": {
        "id": "view-in-github",
        "colab_type": "text"
      },
      "source": [
        "<a href=\"https://colab.research.google.com/github/MissHead/Grafos/blob/master/grafodfs.ipynb\" target=\"_parent\"><img src=\"https://colab.research.google.com/assets/colab-badge.svg\" alt=\"Open In Colab\"/></a>"
      ]
    },
    {
      "metadata": {
        "id": "buTuU9wXT8NR",
        "colab_type": "text"
      },
      "cell_type": "markdown",
      "source": [
        "Tendo o digrafo G = (V, A) onde:\n",
        "\n",
        "• V = {0, 1, 2, 3, 4, 5}\n",
        "\n",
        "• A = {0-2, 0-3, 0-4, 2-1, 2-4, 3-4, 3-5, 4-1, 4-5, 5-1}\n",
        "\n",
        "• O vértice 5 é alcançável a partir do vértice 0?\n",
        "\n",
        "  • invocamos a função verificarCaminho(G, 0, 5)\n",
        "  \n",
        "• O vértice 3 é alcançável a partir do vértice 2?\n",
        "\n",
        "  • invocamos a função verificarCaminho(G, 2, 3)"
      ]
    },
    {
      "metadata": {
        "id": "u5MwiSjoVUDh",
        "colab_type": "code",
        "colab": {}
      },
      "cell_type": "code",
      "source": [
        "class Grafo:\n",
        "  listAdj = {}\n",
        "  visit = []\n",
        "  \n",
        "  def __init__(self):\n",
        "    self.V = [0,1,2,3,4,5]\n",
        "    self.A = [(0,2),(0,3),(0,4),(2,1),(2,4),(3,4),(3,5),(4,1),(4,5),(5,1)]\n",
        "\n",
        "    for aresta in self.A:\n",
        "      try:\n",
        "        self.listAdj[aresta[0]].append(aresta[1])\n",
        "      except:\n",
        "        self.listAdj[aresta[0]] = list()\n",
        "        self.listAdj[aresta[0]].append(aresta[1])\n",
        "\n",
        "    print(self.listAdj)\n",
        "    \n",
        "  def verificarCaminho(self, v, w):\n",
        "    for i in range(0, len(self.V)):\n",
        "      self.visit.insert(i, 0)\n",
        "    self.percorrerRecursivo(v)\n",
        "    if self.visit[w]==0:\n",
        "      print('false')\n",
        "    else:\n",
        "      print('true')\n",
        "    \n",
        "  def percorrerRecursivo(self, x):\n",
        "    self.visit[x] = 1\n",
        "    if x in self.listAdj:\n",
        "      for vertice in self.listAdj[x]:\n",
        "        if self.visit[vertice] == 0:\n",
        "          self.percorrerRecursivo(vertice)\n",
        "        \n",
        "    \n",
        "    "
      ],
      "execution_count": 0,
      "outputs": []
    },
    {
      "metadata": {
        "id": "hE_KTeysXxZQ",
        "colab_type": "code",
        "outputId": "4935ac6b-3c87-49fd-a148-847157395021",
        "colab": {
          "base_uri": "https://localhost:8080/",
          "height": 51
        }
      },
      "cell_type": "code",
      "source": [
        "a = Grafo()\n",
        "\n",
        "a.verificarCaminho(0,5)\n",
        "  \n",
        "    "
      ],
      "execution_count": 36,
      "outputs": [
        {
          "output_type": "stream",
          "text": [
            "{0: [2, 3, 4, 2, 3, 4], 2: [1, 4, 1, 4], 3: [4, 5, 4, 5], 4: [1, 5, 1, 5], 5: [1, 1]}\n",
            "true\n"
          ],
          "name": "stdout"
        }
      ]
    },
    {
      "metadata": {
        "id": "UqPM2DMn0mYP",
        "colab_type": "code",
        "colab": {
          "base_uri": "https://localhost:8080/",
          "height": 34
        },
        "outputId": "9a8a0c8e-fec5-478d-99d3-599911e2537b"
      },
      "cell_type": "code",
      "source": [
        "a.verificarCaminho(2,3)"
      ],
      "execution_count": 37,
      "outputs": [
        {
          "output_type": "stream",
          "text": [
            "false\n"
          ],
          "name": "stdout"
        }
      ]
    }
  ]
}