{
  "nbformat": 4,
  "nbformat_minor": 0,
  "metadata": {
    "colab": {
      "name": "dijkstra.ipynb",
      "version": "0.3.2",
      "provenance": [],
      "collapsed_sections": [],
      "include_colab_link": true
    },
    "kernelspec": {
      "name": "python3",
      "display_name": "Python 3"
    }
  },
  "cells": [
    {
      "cell_type": "markdown",
      "metadata": {
        "id": "view-in-github",
        "colab_type": "text"
      },
      "source": [
        "<a href=\"https://colab.research.google.com/github/MissHead/Grafos/blob/master/dijkstra.ipynb\" target=\"_parent\"><img src=\"https://colab.research.google.com/assets/colab-badge.svg\" alt=\"Open In Colab\"/></a>"
      ]
    },
    {
      "metadata": {
        "id": "yCHrLpl1Mrdl",
        "colab_type": "code",
        "colab": {}
      },
      "cell_type": "code",
      "source": [
        "grafo = [ [-1, -1, 5, 1, -1],\n",
        "          [-1, -1, -1, -1, -1],\n",
        "          [-1, 1, -1, -1, 3],\n",
        "          [-1, -1, -1, -1, 2],\n",
        "          [-1, -1, -1, -1, -1]\n",
        "        ]"
      ],
      "execution_count": 0,
      "outputs": []
    },
    {
      "metadata": {
        "id": "EyzGCN-iM12f",
        "colab_type": "code",
        "outputId": "bae81918-c7b7-451d-a55e-43a139055c2a",
        "colab": {
          "base_uri": "https://localhost:8080/",
          "height": 197
        }
      },
      "cell_type": "code",
      "source": [
        "def dijkstra(s):\n",
        "  parent    = [-1]*5\n",
        "  distancia = [float(\"inf\")]*5\n",
        "  fila = []\n",
        "  \n",
        "  fila.append((0, s))\n",
        "  parent[s]    = s\n",
        "  distancia[s] = 0\n",
        "  \n",
        "  while fila:\n",
        "    fila.sort()\n",
        "    pAtual, vAtual  = fila.pop(0)\n",
        "    \n",
        "    for filho in range(5):\n",
        "      if(grafo[vAtual][filho] is not -1 and parent[filho] is -1):\n",
        "        if(distancia[filho] > distancia[vAtual] + grafo[vAtual][filho]):\n",
        "          distancia[filho] = distancia[vAtual] + grafo[vAtual][filho]\n",
        "          parent[filho] = vAtual\n",
        "          fila.append((distancia[filho], filho))\n",
        "    print(parent)      \n",
        "    print(distancia)\n",
        "\n",
        "dijkstra(0)"
      ],
      "execution_count": 0,
      "outputs": [
        {
          "output_type": "stream",
          "text": [
            "[0, -1, 0, 0, -1]\n",
            "[0, inf, 5, 1, inf]\n",
            "[0, -1, 0, 0, 3]\n",
            "[0, inf, 5, 1, 3]\n",
            "[0, -1, 0, 0, 3]\n",
            "[0, inf, 5, 1, 3]\n",
            "[0, 2, 0, 0, 3]\n",
            "[0, 6, 5, 1, 3]\n",
            "[0, 2, 0, 0, 3]\n",
            "[0, 6, 5, 1, 3]\n"
          ],
          "name": "stdout"
        }
      ]
    },
    {
      "metadata": {
        "id": "ip0ozJy7Wl_h",
        "colab_type": "code",
        "outputId": "7804a3ae-8ef6-4627-c397-3e769ae5cc83",
        "colab": {
          "base_uri": "https://localhost:8080/",
          "height": 197
        }
      },
      "cell_type": "code",
      "source": [
        "dijkstra(0)"
      ],
      "execution_count": 0,
      "outputs": [
        {
          "output_type": "stream",
          "text": [
            "[0, -1, 0, 0, -1]\n",
            "[0, inf, 5, 1, inf]\n",
            "[0, -1, 0, 0, 3]\n",
            "[0, inf, 5, 1, 3]\n",
            "[0, -1, 0, 0, 3]\n",
            "[0, inf, 5, 1, 3]\n",
            "[0, 2, 0, 0, 3]\n",
            "[0, 6, 5, 1, 3]\n",
            "[0, 2, 0, 0, 3]\n",
            "[0, 6, 5, 1, 3]\n"
          ],
          "name": "stdout"
        }
      ]
    }
  ]
}