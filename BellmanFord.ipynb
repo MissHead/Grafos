{
  "nbformat": 4,
  "nbformat_minor": 0,
  "metadata": {
    "colab": {
      "name": "BellmanFord.ipynb",
      "version": "0.3.2",
      "provenance": [],
      "collapsed_sections": [],
      "include_colab_link": true
    },
    "kernelspec": {
      "name": "python3",
      "display_name": "Python 3"
    }
  },
  "cells": [
    {
      "cell_type": "markdown",
      "metadata": {
        "id": "view-in-github",
        "colab_type": "text"
      },
      "source": [
        "<a href=\"https://colab.research.google.com/github/MissHead/Grafos/blob/master/BellmanFord.ipynb\" target=\"_parent\"><img src=\"https://colab.research.google.com/assets/colab-badge.svg\" alt=\"Open In Colab\"/></a>"
      ]
    },
    {
      "metadata": {
        "id": "EcJexH25SPph",
        "colab_type": "text"
      },
      "cell_type": "markdown",
      "source": [
        "Pseudoalgoritmo Bellman Ford\n",
        "\n",
        "BELLMAN-FORD-MOORE (Grafo D=(V,A), Vértice s)\n",
        "''\n",
        "  para cada vértice v de D faça\n",
        "  \n",
        "      estado[v] := NÃO-VISTO\n",
        "      \n",
        "      dist[v] := INFINITO\n",
        "      \n",
        "      pred[v] := NULL\n",
        "      \n",
        "  estado[s] := ROTULADO\n",
        "  \n",
        "  dist[s] := 0\n",
        "  \n",
        "  Q := INICIALIZA-FILA(s)\n",
        "  \n",
        "  enquanto Q não está vazia faça\n",
        "  \n",
        "      u := PRIMEIRO-DA-FILA(Q)\n",
        "      \n",
        "      para cada v em Adj[u] faça\n",
        "      \n",
        "          se dist[u] + len(u,v) < dist[v] então\n",
        "          \n",
        "            estado[v] := ROTULADO\n",
        "            \n",
        "            dist[v] := dist[u]+len(u,v)\n",
        "            \n",
        "            pred[v] := u\n",
        "            \n",
        "            se v não está em Q então \n",
        "            \n",
        "              INSIRA-NA-FILA(Q,v)\n",
        "              \n",
        "      REMOVA-DA-FILA(Q)\n",
        "      \n",
        "      estado[u] := EXAMINADO\n",
        "      \n",
        "  devolva dist e pred\n",
        "  "
      ]
    },
    {
      "metadata": {
        "id": "PRaV30RySnpo",
        "colab_type": "text"
      },
      "cell_type": "markdown",
      "source": [
        "Ao longo do algoritmo, Q é uma fila de vértices; essa fila é o segredo do funcionamento do algoritmo. O comando INICIALIZA-FILA(s) cria uma fila com um só elemento igual a s. O comando PRIMEIRO-DA-FILA(Q) devolve o primeiro elemento da fila Q mas não retira esse elemento da fila. O comando INSIRA-NA-FILA(Q,v) insere v no fim da fila Q. O comando REMOVA-DA-FILA(Q) remove o primeiro elemento da fila Q."
      ]
    },
    {
      "metadata": {
        "id": "09g1chmmSAXL",
        "colab_type": "code",
        "outputId": "5fe8599f-fdcc-4768-c9a2-02327936b0a0",
        "colab": {
          "base_uri": "https://localhost:8080/",
          "height": 34
        }
      },
      "cell_type": "code",
      "source": [
        "grafo = {}\n",
        "grafo[0] = [[2,5],[3,1]]\n",
        "grafo[1] = []\n",
        "grafo[2] = [[4,3],[1,-1]]\n",
        "grafo[3] = [[4,-2]]\n",
        "grafo[4] = []\n",
        "\n",
        "print(grafo)\n"
      ],
      "execution_count": 54,
      "outputs": [
        {
          "output_type": "stream",
          "text": [
            "{0: [[2, 5], [3, 1]], 1: [], 2: [[4, 3], [1, -1]], 3: [[4, -2]], 4: []}\n"
          ],
          "name": "stdout"
        }
      ]
    },
    {
      "metadata": {
        "id": "dsiBPPKjx2e3",
        "colab_type": "code",
        "colab": {}
      },
      "cell_type": "code",
      "source": [
        "class BellmanFord:\n",
        "  def __init__(self):\n",
        "    self.infinito = float('inf')\n",
        "    self.distancia = [self.infinito]*5\n",
        "    self.pai = [-1]*5\n",
        "  def bellmanford(self, s, grafo):\n",
        "    self.distancia[s] = 0\n",
        "    self.pai[s] = s\n",
        "    for i in range(len(grafo)-1):\n",
        "      for vetor in range(len(grafo)):\n",
        "        for filho,peso in grafo[vetor]:\n",
        "          if self.distancia[filho] > self.distancia[vetor] + peso:\n",
        "            self.distancia[filho] = self.distancia[vetor] + peso\n",
        "            self.pai[filho] = vetor\n",
        "    return self.pai\n",
        "    "
      ],
      "execution_count": 0,
      "outputs": []
    },
    {
      "metadata": {
        "id": "FvFWTNpb2FS7",
        "colab_type": "code",
        "outputId": "28652c6b-e349-4916-880c-47b3c89e98b5",
        "colab": {
          "base_uri": "https://localhost:8080/",
          "height": 34
        }
      },
      "cell_type": "code",
      "source": [
        "b = BellmanFord()\n",
        "print(b.bellmanford(0,grafo))"
      ],
      "execution_count": 56,
      "outputs": [
        {
          "output_type": "stream",
          "text": [
            "[0, 2, 0, 0, 3]\n"
          ],
          "name": "stdout"
        }
      ]
    }
  ]
}