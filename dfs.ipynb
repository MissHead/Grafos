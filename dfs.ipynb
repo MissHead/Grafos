{
  "nbformat": 4,
  "nbformat_minor": 0,
  "metadata": {
    "colab": {
      "name": "dfs.ipynb",
      "version": "0.3.2",
      "provenance": [],
      "collapsed_sections": [],
      "include_colab_link": true
    },
    "kernelspec": {
      "name": "python3",
      "display_name": "Python 3"
    }
  },
  "cells": [
    {
      "cell_type": "markdown",
      "metadata": {
        "id": "view-in-github",
        "colab_type": "text"
      },
      "source": [
        "<a href=\"https://colab.research.google.com/github/MissHead/Grafos/blob/master/dfs.ipynb\" target=\"_parent\"><img src=\"https://colab.research.google.com/assets/colab-badge.svg\" alt=\"Open In Colab\"/></a>"
      ]
    },
    {
      "metadata": {
        "id": "WcxpPPGnsKPt",
        "colab_type": "text"
      },
      "cell_type": "markdown",
      "source": [
        "# DFS\n",
        "\n",
        "Considere o grafo G definido pelos arcos  0-1 1-2 1-3 2-4 2-5 ."
      ]
    },
    {
      "metadata": {
        "id": "ElA8OAv5sJA3",
        "colab_type": "code",
        "outputId": "3360d392-c9f9-46bd-fa19-40b8cd783db1",
        "colab": {
          "base_uri": "https://localhost:8080/",
          "height": 34
        }
      },
      "cell_type": "code",
      "source": [
        "grafo = {}\n",
        "grafo[0] = [1]\n",
        "grafo[1] = [2,3]\n",
        "grafo[2] = [4,5]\n",
        "grafo[3] = []\n",
        "grafo[4] = []\n",
        "grafo[5] = []\n",
        "\n",
        "print(grafo)"
      ],
      "execution_count": 161,
      "outputs": [
        {
          "output_type": "stream",
          "text": [
            "{0: [1], 1: [2, 3], 2: [4, 5], 3: [], 4: [], 5: []}\n"
          ],
          "name": "stdout"
        }
      ]
    },
    {
      "metadata": {
        "id": "_oOaXFTdvZb7",
        "colab_type": "code",
        "colab": {}
      },
      "cell_type": "code",
      "source": [
        "class DFS:\n",
        "  def __init__(self):\n",
        "    self.contador = 0\n",
        "    self.percorrimento = [-1]*6\n",
        "    \n",
        "  def dfs(self, grafo):\n",
        "    for i,j in grafo.items():\n",
        "      if self.percorrimento[i] == -1:\n",
        "        self.dfsrecursivo(i)\n",
        "    print(self.percorrimento)\n",
        "        \n",
        "  def dfsrecursivo(self, x):\n",
        "    self.percorrimento[x] = self.contador\n",
        "    self.contador = self.contador + 1\n",
        "    if grafo[x]:\n",
        "      for filho in grafo[x]:\n",
        "        if self.percorrimento[filho] == -1:\n",
        "          self.dfsrecursivo(filho)"
      ],
      "execution_count": 0,
      "outputs": []
    },
    {
      "metadata": {
        "id": "eAv0vyJFE3F5",
        "colab_type": "code",
        "outputId": "2126010f-8584-4523-d138-d0378ed067ec",
        "colab": {
          "base_uri": "https://localhost:8080/",
          "height": 34
        }
      },
      "cell_type": "code",
      "source": [
        "d = DFS()\n",
        "d.dfs(grafo)"
      ],
      "execution_count": 163,
      "outputs": [
        {
          "output_type": "stream",
          "text": [
            "[0, 1, 2, 5, 3, 4]\n"
          ],
          "name": "stdout"
        }
      ]
    }
  ]
}