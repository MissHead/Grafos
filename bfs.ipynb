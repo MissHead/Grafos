{
  "nbformat": 4,
  "nbformat_minor": 0,
  "metadata": {
    "colab": {
      "name": "bfs.ipynb",
      "version": "0.3.2",
      "provenance": [],
      "collapsed_sections": [],
      "include_colab_link": true
    },
    "kernelspec": {
      "name": "python3",
      "display_name": "Python 3"
    }
  },
  "cells": [
    {
      "cell_type": "markdown",
      "metadata": {
        "id": "view-in-github",
        "colab_type": "text"
      },
      "source": [
        "<a href=\"https://colab.research.google.com/github/MissHead/Grafos/blob/master/bfs.ipynb\" target=\"_parent\"><img src=\"https://colab.research.google.com/assets/colab-badge.svg\" alt=\"Open In Colab\"/></a>"
      ]
    },
    {
      "metadata": {
        "id": "iy3vvgvdGe4D",
        "colab_type": "text"
      },
      "cell_type": "markdown",
      "source": [
        "# BFS\n",
        "\n",
        "Considere o grafo G definido pelos arcos  0-1 1-2 1-3 2-4 2-5 ."
      ]
    },
    {
      "metadata": {
        "id": "vQ_GTo0DGXB1",
        "colab_type": "code",
        "colab": {
          "base_uri": "https://localhost:8080/",
          "height": 34
        },
        "outputId": "b2698d00-28fa-4333-e3d7-b22c99da9880"
      },
      "cell_type": "code",
      "source": [
        "grafo = {}\n",
        "grafo[0] = [1]\n",
        "grafo[1] = [2,3]\n",
        "grafo[2] = [4,5]\n",
        "grafo[3] = [6]\n",
        "grafo[4] = []\n",
        "grafo[5] = []\n",
        "grafo[6] = []\n",
        "\n",
        "print(grafo)"
      ],
      "execution_count": 27,
      "outputs": [
        {
          "output_type": "stream",
          "text": [
            "{0: [1], 1: [2, 3], 2: [4, 5], 3: [6], 4: [], 5: [], 6: []}\n"
          ],
          "name": "stdout"
        }
      ]
    },
    {
      "metadata": {
        "id": "ieoGin7nGkoD",
        "colab_type": "code",
        "colab": {}
      },
      "cell_type": "code",
      "source": [
        "class BFS:\n",
        "  def __init__(self):\n",
        "    self.visitacao = [-1]*7\n",
        "    self.percorrimento = []\n",
        "    self.contador = 0\n",
        "    self.fila = []\n",
        "    \n",
        "  def bfs(self, no, grafo):\n",
        "    self.fila.append(no)\n",
        "    self.visitacao[no] = self.contador\n",
        "    self.contador += 1\n",
        "    self.percorrimento.append(no)\n",
        "    while self.fila:\n",
        "      vertice = self.fila.pop(0)\n",
        "      for filho in grafo[vertice]:\n",
        "        if self.visitacao[filho] == -1:\n",
        "          self.fila.append(filho)\n",
        "          self.visitacao[filho] = self.contador\n",
        "          self.contador += 1 \n",
        "          self.percorrimento.append(filho)\n",
        "    print(self.visitacao)\n",
        "    print(self.percorrimento)"
      ],
      "execution_count": 0,
      "outputs": []
    },
    {
      "metadata": {
        "id": "8HnCVqRKJfHt",
        "colab_type": "code",
        "colab": {
          "base_uri": "https://localhost:8080/",
          "height": 51
        },
        "outputId": "866e9ae2-8f14-4b79-b5bc-f4b085d2889f"
      },
      "cell_type": "code",
      "source": [
        "b = BFS()\n",
        "b.bfs(2, grafo)"
      ],
      "execution_count": 29,
      "outputs": [
        {
          "output_type": "stream",
          "text": [
            "[-1, -1, 0, -1, 1, 2, -1]\n",
            "[2, 4, 5]\n"
          ],
          "name": "stdout"
        }
      ]
    }
  ]
}