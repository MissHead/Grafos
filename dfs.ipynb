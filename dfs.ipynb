{
  "nbformat": 4,
  "nbformat_minor": 0,
  "metadata": {
    "colab": {
      "name": "dfs.ipynb",
      "version": "0.3.2",
      "provenance": [],
      "collapsed_sections": [],
      "include_colab_link": true
    },
    "kernelspec": {
      "name": "python3",
      "display_name": "Python 3"
    }
  },
  "cells": [
    {
      "cell_type": "markdown",
      "metadata": {
        "id": "view-in-github",
        "colab_type": "text"
      },
      "source": [
        "<a href=\"https://colab.research.google.com/github/MissHead/Grafos/blob/master/dfs.ipynb\" target=\"_parent\"><img src=\"https://colab.research.google.com/assets/colab-badge.svg\" alt=\"Open In Colab\"/></a>"
      ]
    },
    {
      "metadata": {
        "id": "WcxpPPGnsKPt",
        "colab_type": "text"
      },
      "cell_type": "markdown",
      "source": [
        "# DFS\n",
        "\n",
        "Considere o grafo G definido pelos arcos  0-1 1-2 1-3 2-4 2-5 ."
      ]
    },
    {
      "metadata": {
        "id": "ElA8OAv5sJA3",
        "colab_type": "code",
        "outputId": "c5248ae1-8877-47f4-8065-5fd55ab23ac9",
        "colab": {
          "base_uri": "https://localhost:8080/",
          "height": 35
        }
      },
      "cell_type": "code",
      "source": [
        "grafo = {}\n",
        "grafo[0] = [1]\n",
        "grafo[1] = [2,3]\n",
        "grafo[2] = [4,5]\n",
        "grafo[3] = []\n",
        "grafo[4] = []\n",
        "grafo[5] = []\n",
        "\n",
        "print(grafo)"
      ],
      "execution_count": 0,
      "outputs": [
        {
          "output_type": "stream",
          "text": [
            "{0: [1], 1: [2, 3], 2: [4, 5], 3: [], 4: [], 5: []}\n"
          ],
          "name": "stdout"
        }
      ]
    },
    {
      "metadata": {
        "id": "b4dLJU1Hu4qa",
        "colab_type": "code",
        "outputId": "abcb30d0-5949-4183-fc9b-d26f68f94ccb",
        "colab": {
          "base_uri": "https://localhost:8080/",
          "height": 35
        }
      },
      "cell_type": "code",
      "source": [
        "contador = 0\n",
        "percorrimento = [-1]*6\n",
        "print(percorrimento)"
      ],
      "execution_count": 0,
      "outputs": [
        {
          "output_type": "stream",
          "text": [
            "[-1, -1, -1, -1, -1, -1]\n"
          ],
          "name": "stdout"
        }
      ]
    },
    {
      "metadata": {
        "id": "_oOaXFTdvZb7",
        "colab_type": "code",
        "outputId": "976ee34c-a837-4c3c-87d7-eb0d5f0a4906",
        "colab": {
          "base_uri": "https://localhost:8080/",
          "height": 89
        }
      },
      "cell_type": "code",
      "source": [
        "def dfsrecursivo(x, contador):\n",
        "  percorrimento[x] = contador\n",
        "  contador += 1\n",
        "  if grafo[x]:\n",
        "    print('nó '+str(x)+' tem filhos!')\n",
        "    for filho in grafo[x]:\n",
        "      if percorrimento[filho] == -1:\n",
        "        dfsrecursivo(filho, contador)\n",
        "        \n",
        "for i,j in grafo.items():\n",
        "  if percorrimento[i] == -1:\n",
        "    dfsrecursivo(i, contador)\n",
        "\n",
        "print(percorrimento)"
      ],
      "execution_count": 0,
      "outputs": [
        {
          "output_type": "stream",
          "text": [
            "nó 0 tem filhos!\n",
            "nó 1 tem filhos!\n",
            "nó 2 tem filhos!\n",
            "[0, 1, 2, 2, 3, 3]\n"
          ],
          "name": "stdout"
        }
      ]
    }
  ]
}